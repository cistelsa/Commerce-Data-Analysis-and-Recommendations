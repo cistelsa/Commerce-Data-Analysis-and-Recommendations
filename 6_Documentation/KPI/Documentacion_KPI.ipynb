{
 "cells": [
  {
   "cell_type": "markdown",
   "metadata": {},
   "source": [
    "![banner_kpi](https://github.com/cistelsa/Commerce_Data_Analysis_and_Recommendations/blob/main/5_Sources/Images/banner_api.gif?raw=true)\n",
    "# <h1 align=center> <font color='#307A71'>**KPI**</font> </h1>\n",
    "## <h1 align=center> (Key Performance Indicators) </h1>"
   ]
  },
  {
   "cell_type": "markdown",
   "metadata": {},
   "source": [
    "## <h1 align=left><font color='#307A71'>**Contenido**</font></h1>\n",
    "1. Conceptos.\n",
    "2. Desarrollo.\n",
    "    - Objetivo No 1.\n",
    "    - Objetivo No 2.\n",
    "    - Objetivo No 3."
   ]
  },
  {
   "cell_type": "markdown",
   "metadata": {},
   "source": [
    "## <h1 align=left><font color='#307A71'> Conceptos:</font></h1>"
   ]
  },
  {
   "cell_type": "markdown",
   "metadata": {},
   "source": [
    "### KPI "
   ]
  },
  {
   "cell_type": "markdown",
   "metadata": {},
   "source": [
    "----------\n",
    "**Los KPI (Key Performance Indicators):** que en español se traducen como Indicadores Clave de Desempeño, son métricas específicas y cuantificables utilizadas para medir el rendimiento de una empresa, un proyecto, un proceso o cualquier actividad. Estos indicadores se seleccionan porque son fundamentales para evaluar el éxito o el progreso hacia los objetivos establecidos.\n",
    "\n",
    "Las KPI pueden variar según el contexto y los objetivos, pero su función principal es proporcionar información relevante para la toma de decisiones. Algunos ejemplos comunes de KPI incluyen el ingreso neto, la tasa de conversión, la satisfacción del cliente, el tiempo de respuesta, la retención de empleados, entre otros. Estas métricas permiten a las organizaciones evaluar su desempeño, identificar áreas de mejora y tomar decisiones informadas para alcanzar sus metas.\n",
    "\n",
    "-----------"
   ]
  },
  {
   "cell_type": "markdown",
   "metadata": {},
   "source": [
    "### Métricas"
   ]
  },
  {
   "cell_type": "markdown",
   "metadata": {},
   "source": [
    "----------\n",
    "Las métricas son datos cuantitativos o cualitativos específicos que se utilizan para medir un aspecto particular del rendimiento o una característica de interés en un proceso, proyecto, empresa u otra entidad. Las métricas son los componentes individuales que contribuyen a la evaluación de un KPI (Key Performance Indicator) o indicador clave de desempeño.\n",
    "\n",
    "En otras palabras, los KPI son conjuntos de métricas seleccionadas estratégicamente que son especialmente importantes para medir el éxito general de un objetivo o una actividad. Las métricas proporcionan información detallada y específica sobre aspectos particulares, mientras que los KPI son indicadores más amplios que resumen varias métricas en una evaluación global del rendimiento.\n",
    "\n",
    "En resumen, las métricas son las unidades de medida específicas que contribuyen a la evaluación de los KPI, que son indicadores más amplios y estratégicos utilizados para medir el rendimiento global.\n",
    "\n",
    "----------"
   ]
  },
  {
   "cell_type": "markdown",
   "metadata": {},
   "source": [
    "### KPI SMART"
   ]
  },
  {
   "cell_type": "markdown",
   "metadata": {},
   "source": [
    "----------\n",
    "Los **_KPI SMART_** son una forma de definir y establecer indicadores clave de desempeño (KPI) que son específicos, medibles, alcanzables, relevantes y con un marco temporal (por sus siglas en inglés, Specific, Measurable, Achievable, Relevant, y Time-bound). Esta metodología ayuda a garantizar que los KPI sean efectivos y útiles para medir el progreso hacia objetivos específicos:\n",
    "\n",
    "* **Specific (Específico):** El KPI debe ser claro y específico en cuanto a lo que se está midiendo. Debe ser lo más detallado posible para evitar confusiones.\n",
    "\n",
    "* **Measurable (Medible):** Debe ser posible cuantificar el KPI de manera que se pueda medir el progreso y sepa cuándo se ha alcanzado el objetivo.\n",
    "\n",
    "* **Achievable (Alcanzable):** El KPI debe ser realista y alcanzable con los recursos y el tiempo disponibles. No debe ser tan ambicioso que sea imposible de cumplir.\n",
    "\n",
    "* **Relevant (Relevante):** El KPI debe estar relacionado directamente con el objetivo o el resultado que se busca. Debe ser relevante para el éxito general del proyecto o la iniciativa.\n",
    "\n",
    "* **Time-bound (Con un marco temporal):** Debe haber un plazo o un período de tiempo específico en el que se espera que se alcance el KPI. Esto proporciona un sentido de urgencia y un marco temporal para evaluar el progreso.\n",
    "\n",
    "----------"
   ]
  },
  {
   "cell_type": "markdown",
   "metadata": {},
   "source": [
    "## <h1 align=left><font color='#307A71'> Desarrollo:</font></h1>"
   ]
  },
  {
   "cell_type": "markdown",
   "metadata": {},
   "source": [
    "Teniendo como premisa los conceptos relacionados, para el desarrollo de este proyecto estructuramos los KPI de tal manera que estuvieran alineados con un objetivo y que a su vez tuviera métricas que permitieran medir de forma eficiente los **KPI** propuestos."
   ]
  },
  {
   "cell_type": "markdown",
   "metadata": {},
   "source": [
    "---------------\n",
    "### Objetivo No 1"
   ]
  },
  {
   "cell_type": "markdown",
   "metadata": {},
   "source": [
    "![Objetivo_1](https://github.com/cistelsa/Commerce_Data_Analysis_and_Recommendations/blob/main/5_Sources/Images/Objetivo_1.png?raw=true)\n",
    "\n",
    "\n",
    "---------"
   ]
  },
  {
   "cell_type": "markdown",
   "metadata": {},
   "source": [
    "----------\n",
    "### Objetivo No 2"
   ]
  },
  {
   "cell_type": "markdown",
   "metadata": {},
   "source": [
    "![Objetivo_2](https://github.com/cistelsa/Commerce_Data_Analysis_and_Recommendations/blob/main/5_Sources/Images/Objetivo_2.png?raw=true)\n",
    "\n",
    "\n",
    "---------"
   ]
  },
  {
   "cell_type": "markdown",
   "metadata": {},
   "source": [
    "----------\n",
    "### Objetivo No 3"
   ]
  },
  {
   "cell_type": "markdown",
   "metadata": {},
   "source": [
    "![Objetivo_3](https://github.com/cistelsa/Commerce_Data_Analysis_and_Recommendations/blob/main/5_Sources/Images/Objetivo_3.png?raw=true)"
   ]
  }
 ],
 "metadata": {
  "language_info": {
   "name": "python"
  }
 },
 "nbformat": 4,
 "nbformat_minor": 2
}
