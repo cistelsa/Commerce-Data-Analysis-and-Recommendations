{
 "cells": [
  {
   "cell_type": "markdown",
   "metadata": {},
   "source": []
  },
  {
   "cell_type": "code",
   "execution_count": 1,
   "metadata": {},
   "outputs": [],
   "source": [
    "import requests\n",
    "import json\n",
    "import time, hashlib"
   ]
  },
  {
   "cell_type": "code",
   "execution_count": 49,
   "metadata": {},
   "outputs": [],
   "source": [
    "# Tu API Key y Secret eortiz@cistelsa.com\n",
    "apiKey = \"522746f91305dc7f7ab06bac5773795f\"\n",
    "Secret = \"0e7ad9b347\"\n",
    "\n",
    "# Signature es generado por SHA256 (Api-Key + Secret + Timestamp (en segundos))\n",
    "sigStr = \"%s%s%d\" % (apiKey, Secret, int(time.time()))\n",
    "signature = hashlib.sha256(sigStr.encode()).hexdigest()"
   ]
  },
  {
   "cell_type": "code",
   "execution_count": 3,
   "metadata": {},
   "outputs": [],
   "source": [
    "# Tu API Key y Secret comercial@cistelsa.com\n",
    "apiKey = \"d23355dc7bff5a7ed75cf49a7185e1f2\"\n",
    "Secret = \"70e35ecbcd\"\n",
    "\n",
    "# Signature es generado por SHA256 (Api-Key + Secret + Timestamp (en segundos))\n",
    "sigStr = \"%s%s%d\" % (apiKey, Secret, int(time.time()))\n",
    "signature = hashlib.sha256(sigStr.encode()).hexdigest()"
   ]
  },
  {
   "cell_type": "code",
   "execution_count": 5,
   "metadata": {},
   "outputs": [],
   "source": [
    "# Tu API Key y Secret gerenciaop@cistelsa.com\n",
    "apiKey = \"dba619281e58df2a2af6ef45447f7fb1\"\n",
    "Secret = \"7f3eefe402\"\n",
    "\n",
    "# Signature es generado por SHA256 (Api-Key + Secret + Timestamp (en segundos))\n",
    "sigStr = \"%s%s%d\" % (apiKey, Secret, int(time.time()))\n",
    "signature = hashlib.sha256(sigStr.encode()).hexdigest()"
   ]
  },
  {
   "cell_type": "code",
   "execution_count": 6,
   "metadata": {},
   "outputs": [
    {
     "name": "stdout",
     "output_type": "stream",
     "text": [
      "Los datos se han guardado en rt_hotel_occupancy_api.json\n"
     ]
    }
   ],
   "source": [
    "url = \"https://api.test.hotelbeds.com/hotel-api/1.0/hotels\"\n",
    "\n",
    "payload = json.dumps({\n",
    "  \"stay\": {\n",
    "    \"checkIn\": \"2023-09-30\",\n",
    "    \"checkOut\": \"2023-10-01\",\n",
    "    \"shiftDays\": 1\n",
    "  },\n",
    "  \"geolocation\": {\n",
    "    \"longitude\": \"-116.3524076\",\n",
    "    \"latitude\": \"38.8314452\",\n",
    "    \"radius\": \"200\",\n",
    "    \"unit\": \"mi\"\n",
    "  },\n",
    "  \"occupancies\": [\n",
    "    {\n",
    "      \"rooms\": 1,\n",
    "      \"adults\": 2,\n",
    "      \"children\": 0\n",
    "    },\n",
    "    {\n",
    "      \"rooms\": 1,\n",
    "      \"adults\": 1,\n",
    "      \"children\": 0\n",
    "    },\n",
    "    {\n",
    "      \"rooms\": 1,\n",
    "      \"adults\": 1,\n",
    "      \"children\": 1,\n",
    "      \"paxes\": [\n",
    "        {\n",
    "          \"type\": \"CH\",\n",
    "          \"age\": 2\n",
    "        }\n",
    "      ]\n",
    "    }\n",
    "  ]\n",
    "})\n",
    "headers = {\n",
    "  'Api-key': apiKey,\n",
    "  'X-Signature': signature,\n",
    "  'Accept': 'application/json',\n",
    "  'Accept-Encoding': 'gzip',\n",
    "  'Content-Type': 'application/json'\n",
    "}\n",
    "\n",
    "response = requests.request(\"POST\", url, headers=headers, data=payload)\n",
    "\n",
    "# Verifica que la solicitud fue exitosa (código de respuesta 200)\n",
    "if response.status_code == 200:\n",
    "    # Convierte la respuesta JSON en un diccionario de Python\n",
    "    data = json.loads(response.text)\n",
    "\n",
    "    # Especifica el nombre del archivo en el que deseas guardar los datos JSON\n",
    "    archivo_json = \"rt_hotel_occupancy_api.json\"\n",
    "\n",
    "    # Especifica la ruta donde se encuentra el archivo\n",
    "    path_json = \"../../2. Datasets/beta/hotelbeds/\"\n",
    "\n",
    "    # Abre el archivo en modo escritura y guarda el diccionario en formato JSON\n",
    "    with open(path_json + archivo_json, \"w\") as archivo:\n",
    "        json.dump(data, archivo, indent=4)\n",
    "\n",
    "    print(f\"Los datos se han guardado en {archivo_json}\")\n",
    "else:\n",
    "    print(f\"Error al hacer la solicitud a la API. Código de respuesta: {response.status_code}\")\n"
   ]
  },
  {
   "cell_type": "code",
   "execution_count": 4,
   "metadata": {},
   "outputs": [
    {
     "name": "stdout",
     "output_type": "stream",
     "text": [
      "Los datos se han guardado en 41 archivos .json\n"
     ]
    }
   ],
   "source": [
    "# URL base de la API\n",
    "url_base = \"https://api.test.hotelbeds.com/hotel-content-api/1.0/hotels\"\n",
    "\n",
    "# Parámetros iniciales\n",
    "query_params = {\n",
    "  \"countryCode\": \"US\",\n",
    "}\n",
    "\n",
    "headers = {\n",
    "  'Api-key': apiKey,\n",
    "  'X-Signature': signature,\n",
    "  'Accept': 'application/json',\n",
    "  'Accept-Encoding': 'gzip',\n",
    "  'Content-Type': 'application/json'\n",
    "}\n",
    "\n",
    "# Valor inicial y tamaño del lote\n",
    "from_value = 10001\n",
    "batch_size = 1000\n",
    "to_value = from_value + batch_size - 1\n",
    "\n",
    "# Contador de archivos\n",
    "file_count = 11\n",
    "\n",
    "# Realiza solicitudes en lotes hasta llegar al valor \"to\"\n",
    "while from_value <= 39963:\n",
    "    # Actualiza los parámetros de consulta con los valores actuales de \"from\" y \"to\"\n",
    "    query_params[\"from\"] = from_value\n",
    "    query_params[\"to\"] = to_value\n",
    "\n",
    "    # Realiza la solicitud GET\n",
    "    response = requests.get(url_base, params=query_params, headers=headers)\n",
    "\n",
    "    if response.status_code == 200:\n",
    "        # Convierte la respuesta JSON en un diccionario de Python\n",
    "        data = json.loads(response.text)\n",
    "\n",
    "        # Especifica el nombre del archivo en el que deseas guardar los datos JSON totales\n",
    "        archivo_json = f\"hotels_us_total_api_{file_count}.json\"\n",
    "\n",
    "        # Especifica la ruta donde se encuentra el archivo\n",
    "        path_json = \"../../2. Datasets/beta/hotelbeds/\"\n",
    "\n",
    "        # Abre el archivo en modo escritura y guarda el diccionario en formato JSON\n",
    "        with open(path_json + archivo_json, \"w\") as archivo:\n",
    "            json.dump(data[\"hotels\"], archivo, indent=4)\n",
    "\n",
    "        # Incrementa los valores de \"from\" y \"to\" para el próximo lote\n",
    "        from_value += batch_size\n",
    "        to_value += batch_size\n",
    "\n",
    "        # Incrementa el contador\n",
    "        file_count += 1\n",
    "\n",
    "        \n",
    "    else:\n",
    "        print(f\"Error al hacer la solicitud a la API. Código de respuesta: {response.status_code}\")\n",
    "        break\n",
    "# disminuye el contador\n",
    "file_count -= 1\n",
    "print(f\"Los datos se han guardado en {file_count} archivos .json\")"
   ]
  }
 ],
 "metadata": {
  "kernelspec": {
   "display_name": ".venv",
   "language": "python",
   "name": "python3"
  },
  "language_info": {
   "codemirror_mode": {
    "name": "ipython",
    "version": 3
   },
   "file_extension": ".py",
   "mimetype": "text/x-python",
   "name": "python",
   "nbconvert_exporter": "python",
   "pygments_lexer": "ipython3",
   "version": "3.10.7"
  },
  "orig_nbformat": 4
 },
 "nbformat": 4,
 "nbformat_minor": 2
}
