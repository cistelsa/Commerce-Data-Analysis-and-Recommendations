{
 "cells": [
  {
   "cell_type": "markdown",
   "metadata": {},
   "source": [
    "![Banner ETL](../5.%20Sources/Images/banner_etl.gif)\n",
    "# <h2 align=center>**`ETL GOOGLE MAPS (METADATA-SITIOS)`**</h2>\n",
    "Dado que la carpeta donde se dispone la metadata tiene 11 archivos .json se debe buscar la ruta de acceso en el ordenador que aloja dicha carpeta. Luego mediante un ciclo 'for' se unirá cada archivo, se filtrarán los datos solo para el rubro 'hotel' y se originará un solo dataframe con toda la información."
   ]
  },
  {
   "cell_type": "markdown",
   "metadata": {},
   "source": [
    "Importar las librerias necesarias"
   ]
  },
  {
   "cell_type": "code",
   "execution_count": 1,
   "metadata": {},
   "outputs": [],
   "source": [
    "import pandas as pd\n",
    "import numpy as np\n",
    "import os"
   ]
  },
  {
   "cell_type": "markdown",
   "metadata": {},
   "source": [
    "Importar los archivos .json desde la carpeta 'metadata-sitios' y crear el dataframe"
   ]
  },
  {
   "cell_type": "code",
   "execution_count": 17,
   "metadata": {},
   "outputs": [
    {
     "data": {
      "text/html": [
       "<div>\n",
       "<style scoped>\n",
       "    .dataframe tbody tr th:only-of-type {\n",
       "        vertical-align: middle;\n",
       "    }\n",
       "\n",
       "    .dataframe tbody tr th {\n",
       "        vertical-align: top;\n",
       "    }\n",
       "\n",
       "    .dataframe thead th {\n",
       "        text-align: right;\n",
       "    }\n",
       "</style>\n",
       "<table border=\"1\" class=\"dataframe\">\n",
       "  <thead>\n",
       "    <tr style=\"text-align: right;\">\n",
       "      <th></th>\n",
       "      <th>name</th>\n",
       "      <th>address</th>\n",
       "      <th>gmap_id</th>\n",
       "      <th>description</th>\n",
       "      <th>latitude</th>\n",
       "      <th>longitude</th>\n",
       "      <th>category</th>\n",
       "      <th>avg_rating</th>\n",
       "      <th>num_of_reviews</th>\n",
       "      <th>price</th>\n",
       "      <th>hours</th>\n",
       "      <th>MISC</th>\n",
       "      <th>state</th>\n",
       "      <th>relative_results</th>\n",
       "      <th>url</th>\n",
       "      <th>category_hotel</th>\n",
       "    </tr>\n",
       "  </thead>\n",
       "  <tbody>\n",
       "    <tr>\n",
       "      <th>175</th>\n",
       "      <td>Basecamp Guesthouse</td>\n",
       "      <td>Basecamp Guesthouse, 49010 SE Middle Fork Rd, ...</td>\n",
       "      <td>0x54907fca2751e187:0x3d6ae31ac18da483</td>\n",
       "      <td>None</td>\n",
       "      <td>47.471332</td>\n",
       "      <td>-121.686928</td>\n",
       "      <td>[Hotel]</td>\n",
       "      <td>5.0</td>\n",
       "      <td>8</td>\n",
       "      <td>None</td>\n",
       "      <td>None</td>\n",
       "      <td>None</td>\n",
       "      <td>None</td>\n",
       "      <td>[0x54907c35e89f333f:0x121a0cbfbbb39d3a, 0x549a...</td>\n",
       "      <td>https://www.google.com/maps/place//data=!4m2!3...</td>\n",
       "      <td>Hotel</td>\n",
       "    </tr>\n",
       "    <tr>\n",
       "      <th>3611</th>\n",
       "      <td>Sugar River Loft</td>\n",
       "      <td>Sugar River Loft, 929 W Exchange St, Brodhead,...</td>\n",
       "      <td>0x88062b28cb53ef6d:0x94df72568fddf391</td>\n",
       "      <td>None</td>\n",
       "      <td>42.619862</td>\n",
       "      <td>-89.377890</td>\n",
       "      <td>[Hotel]</td>\n",
       "      <td>4.7</td>\n",
       "      <td>8</td>\n",
       "      <td>None</td>\n",
       "      <td>None</td>\n",
       "      <td>None</td>\n",
       "      <td>None</td>\n",
       "      <td>[0x88062b123701348f:0x5c12c6134b41325, 0x88062...</td>\n",
       "      <td>https://www.google.com/maps/place//data=!4m2!3...</td>\n",
       "      <td>Hotel</td>\n",
       "    </tr>\n",
       "  </tbody>\n",
       "</table>\n",
       "</div>"
      ],
      "text/plain": [
       "                     name                                            address  \\\n",
       "175   Basecamp Guesthouse  Basecamp Guesthouse, 49010 SE Middle Fork Rd, ...   \n",
       "3611     Sugar River Loft  Sugar River Loft, 929 W Exchange St, Brodhead,...   \n",
       "\n",
       "                                    gmap_id description   latitude  \\\n",
       "175   0x54907fca2751e187:0x3d6ae31ac18da483        None  47.471332   \n",
       "3611  0x88062b28cb53ef6d:0x94df72568fddf391        None  42.619862   \n",
       "\n",
       "       longitude category  avg_rating  num_of_reviews price hours  MISC state  \\\n",
       "175  -121.686928  [Hotel]         5.0               8  None  None  None  None   \n",
       "3611  -89.377890  [Hotel]         4.7               8  None  None  None  None   \n",
       "\n",
       "                                       relative_results  \\\n",
       "175   [0x54907c35e89f333f:0x121a0cbfbbb39d3a, 0x549a...   \n",
       "3611  [0x88062b123701348f:0x5c12c6134b41325, 0x88062...   \n",
       "\n",
       "                                                    url category_hotel  \n",
       "175   https://www.google.com/maps/place//data=!4m2!3...          Hotel  \n",
       "3611  https://www.google.com/maps/place//data=!4m2!3...          Hotel  "
      ]
     },
     "execution_count": 17,
     "metadata": {},
     "output_type": "execute_result"
    }
   ],
   "source": [
    "directorio_metadata = f'D:\\\\Aldemar\\\\cursos\\\\SoyHenry\\\\Cohorte DataPT02\\\\PF_DS\\Google Maps\\\\metadata-sitios\\\\metadata-sitios' #ruta de acceso a los archivos\n",
    "archivos_metadata = os.listdir(directorio_metadata) #lista de los archivos .json contenidos en la carpeta\n",
    "\n",
    "df_metadata = pd.DataFrame() #dataframe vacío (será el que contenga los datos)\n",
    "\n",
    "#Crear un solo dataframe con el contenido de los archivos .json\n",
    "for archivo in archivos_metadata:\n",
    "    df_archivo = pd.read_json(f'metadata-sitios\\\\{archivo}', lines=True)\n",
    "\n",
    "    df_archivo['category_hotel'] = np.nan\n",
    "\n",
    "    #filtro del dataframe para el rubro 'hotel' (columna 'category')\n",
    "    for fila in range(len(df_archivo['category'])):\n",
    "        if type(df_archivo['category'][fila]) == list:\n",
    "            if 'Hotel' in df_archivo['category'][fila]:\n",
    "                df_archivo.loc[fila, 'category_hotel'] = 'Hotel'\n",
    "    df_archivo = df_archivo[df_archivo['category_hotel'] == 'Hotel']\n",
    "\n",
    "    #unión de los archivos en el dataframe\n",
    "    if df_metadata.shape[0] == 0:\n",
    "        df_metadata = df_archivo\n",
    "    else:\n",
    "        df_metadata = pd.concat([df_metadata, df_archivo])\n",
    "\n",
    "df_metadata.head(2)\n"
   ]
  },
  {
   "cell_type": "markdown",
   "metadata": {},
   "source": [
    "Exportar el dataframe en un archivo .csv"
   ]
  },
  {
   "cell_type": "code",
   "execution_count": 20,
   "metadata": {},
   "outputs": [],
   "source": [
    "df_metadata.to_csv(\"df_metadata.csv\")"
   ]
  }
 ],
 "metadata": {
  "kernelspec": {
   "display_name": "Python 3",
   "language": "python",
   "name": "python3"
  },
  "language_info": {
   "codemirror_mode": {
    "name": "ipython",
    "version": 3
   },
   "file_extension": ".py",
   "mimetype": "text/x-python",
   "name": "python",
   "nbconvert_exporter": "python",
   "pygments_lexer": "ipython3",
   "version": "3.11.0"
  },
  "orig_nbformat": 4
 },
 "nbformat": 4,
 "nbformat_minor": 2
}
