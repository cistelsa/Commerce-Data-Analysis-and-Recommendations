{
 "cells": [
  {
   "cell_type": "markdown",
   "metadata": {},
   "source": [
    "![Banner API](<../../5. Sources/Images/banner_api.gif>)"
   ]
  },
  {
   "cell_type": "markdown",
   "metadata": {},
   "source": [
    "## Extracción API HotelBeds"
   ]
  },
  {
   "cell_type": "code",
   "execution_count": 6,
   "metadata": {},
   "outputs": [],
   "source": [
    "import requests\n",
    "import json\n",
    "import time, hashlib\n",
    "import keys as k\n",
    "import pandas as pd"
   ]
  },
  {
   "cell_type": "code",
   "execution_count": 7,
   "metadata": {},
   "outputs": [],
   "source": [
    "# Tu API Key y Secret proveniente de keys el cual está en .gitignore\n",
    "apiKey = k.apiKey_t\n",
    "Secret = k.Secret_t\n",
    "\n",
    "# Signature es generado por SHA256 (Api-Key + Secret + Timestamp (en segundos))\n",
    "sigStr = \"%s%s%d\" % (apiKey, Secret, int(time.time()))\n",
    "signature = hashlib.sha256(sigStr.encode()).hexdigest()"
   ]
  },
  {
   "cell_type": "markdown",
   "metadata": {},
   "source": [
    "### Test de conexión de datos tipo POST para hotelbeds"
   ]
  },
  {
   "cell_type": "markdown",
   "metadata": {},
   "source": [
    "### Consulta de disponibilidad del Hotel en tiempo real"
   ]
  },
  {
   "cell_type": "markdown",
   "metadata": {},
   "source": [
    "Esta conexión nos extrae datos de los hoteles según la geolocalización y parametros de distancia en forma radial o en forma de rectangulo pero no es beneficioso, por lo cual es necesario implementar la extracción por id de hotel y configurar un bucle el cual haga el proceso por lotes de 2000 registros, entonces se necesita la data extraida por medio de GET."
   ]
  },
  {
   "cell_type": "code",
   "execution_count": 6,
   "metadata": {},
   "outputs": [
    {
     "name": "stdout",
     "output_type": "stream",
     "text": [
      "Los datos se han guardado en rt_hotel_occupancy_api.json\n"
     ]
    }
   ],
   "source": [
    "# URL de conexión modo test para hoteles y disponibilidad\n",
    "\n",
    "url = \"https://api.test.hotelbeds.com/hotel-api/1.0/hotels\"\n",
    "\n",
    "payload = json.dumps({\n",
    "  \"stay\": {\n",
    "    \"checkIn\": \"2023-09-30\",\n",
    "    \"checkOut\": \"2023-10-01\",\n",
    "    \"shiftDays\": 1\n",
    "  },\n",
    "  \"geolocation\": {\n",
    "    \"longitude\": \"-116.3524076\",\n",
    "    \"latitude\": \"38.8314452\",\n",
    "    \"radius\": \"200\",\n",
    "    \"unit\": \"mi\"\n",
    "  },\n",
    "  \"occupancies\": [\n",
    "    {\n",
    "      \"rooms\": 1,\n",
    "      \"adults\": 2,\n",
    "      \"children\": 0\n",
    "    },\n",
    "    {\n",
    "      \"rooms\": 1,\n",
    "      \"adults\": 1,\n",
    "      \"children\": 0\n",
    "    },\n",
    "    {\n",
    "      \"rooms\": 1,\n",
    "      \"adults\": 1,\n",
    "      \"children\": 1,\n",
    "      \"paxes\": [\n",
    "        {\n",
    "          \"type\": \"CH\",\n",
    "          \"age\": 2\n",
    "        }\n",
    "      ]\n",
    "    }\n",
    "  ]\n",
    "})\n",
    "headers = {\n",
    "  'Api-key': apiKey,\n",
    "  'X-Signature': signature,\n",
    "  'Accept': 'application/json',\n",
    "  'Accept-Encoding': 'gzip',\n",
    "  'Content-Type': 'application/json'\n",
    "}\n",
    "\n",
    "response = requests.request(\"POST\", url, headers=headers, data=payload)\n",
    "\n",
    "# Verifica que la solicitud fue exitosa (código de respuesta 200)\n",
    "if response.status_code == 200:\n",
    "    # Convierte la respuesta JSON en un diccionario de Python\n",
    "    data = json.loads(response.text)\n",
    "\n",
    "    # Especifica el nombre del archivo en el que deseas guardar los datos JSON\n",
    "    archivo_json = \"rt_hotel_occupancy_api.json\"\n",
    "\n",
    "    # Especifica la ruta donde se encuentra el archivo\n",
    "    path_json = \"../../2. Datasets/original/hotelbeds/\"\n",
    "\n",
    "    # Abre el archivo en modo escritura y guarda el diccionario en formato JSON\n",
    "    with open(path_json + archivo_json, \"w\") as archivo:\n",
    "        json.dump(data, archivo, indent=4)\n",
    "\n",
    "    print(f\"Los datos se han guardado en {archivo_json}\")\n",
    "else:\n",
    "    print(f\"Error al hacer la solicitud a la API. Código de respuesta: {response.status_code}\")\n"
   ]
  },
  {
   "cell_type": "markdown",
   "metadata": {},
   "source": [
    "### Test de conexión de datos tipo GET para hotelbeds"
   ]
  },
  {
   "cell_type": "markdown",
   "metadata": {},
   "source": [
    "Primer código de implementación, pruebas de Conexión para 1000 registros"
   ]
  },
  {
   "cell_type": "code",
   "execution_count": 10,
   "metadata": {},
   "outputs": [
    {
     "name": "stdout",
     "output_type": "stream",
     "text": [
      "Los datos se han guardado en test_hotel_api.json\n"
     ]
    }
   ],
   "source": [
    "url = \"https://api.test.hotelbeds.com/hotel-content-api/1.0/hotels\"\n",
    "\n",
    "query_params = {\n",
    "  \"countryCode\": \"US\",\n",
    "  \"from\": 1,\n",
    "  \"to\": 1000\n",
    "}\n",
    "\n",
    "headers = {\n",
    "  'Api-key': apiKey,\n",
    "  'X-Signature': signature,\n",
    "  'Accept': 'application/json',\n",
    "  'Accept-Encoding': 'gzip',\n",
    "  'Content-Type': 'application/json'\n",
    "}\n",
    "\n",
    "# Realiza la solicitud GET\n",
    "response = requests.get(url, params=query_params, headers=headers)\n",
    "\n",
    "# Verifica que la solicitud fue exitosa (código de respuesta 200)\n",
    "if response.status_code == 200:\n",
    "    # Convierte la respuesta JSON en un diccionario de Python\n",
    "    data = json.loads(response.text)\n",
    "\n",
    "    # Especifica el nombre del archivo en el que deseas guardar los datos JSON\n",
    "    archivo_json = \"test_hotel_api.json\"\n",
    "\n",
    "    # Especifica la ruta donde se encuentra el archivo\n",
    "    path_json = \"../../2. Datasets/original/hotelbeds/\"\n",
    "\n",
    "    # Abre el archivo en modo escritura y guarda el diccionario en formato JSON\n",
    "    with open(path_json + archivo_json, \"w\") as archivo:\n",
    "        json.dump(data, archivo, indent=4)\n",
    "\n",
    "    print(f\"Los datos se han guardado en {archivo_json}\")\n",
    "else:\n",
    "    print(f\"Error al hacer la solicitud a la API. Código de respuesta: {response.status_code}\")"
   ]
  },
  {
   "cell_type": "markdown",
   "metadata": {},
   "source": [
    "Se realiza extracción por medio de bucle con lotes de 1000 registros lo cual es lo máximo permitido por la API, se filtran los datos por país y se guarda por lotes ya que maneja bastante volumen de datos y evitar problemas de memoria."
   ]
  },
  {
   "cell_type": "code",
   "execution_count": 4,
   "metadata": {},
   "outputs": [
    {
     "name": "stdout",
     "output_type": "stream",
     "text": [
      "Los datos se han guardado en 41 archivos .json\n"
     ]
    }
   ],
   "source": [
    "# URL base de la API ti\n",
    "url_base = \"https://api.test.hotelbeds.com/hotel-content-api/1.0/hotels\"\n",
    "\n",
    "# Parámetros iniciales filtro por \"US\" inicial del país\n",
    "query_params = {\n",
    "  \"countryCode\": \"US\",\n",
    "}\n",
    "\n",
    "headers = {\n",
    "  'Api-key': apiKey,\n",
    "  'X-Signature': signature,\n",
    "  'Accept': 'application/json',\n",
    "  'Accept-Encoding': 'gzip',\n",
    "  'Content-Type': 'application/json'\n",
    "}\n",
    "\n",
    "# Valor inicial y tamaño del lote\n",
    "from_value = 1\n",
    "batch_size = 1000\n",
    "to_value = from_value + batch_size - 1\n",
    "\n",
    "# Contador de archivos\n",
    "file_count = 1\n",
    "\n",
    "# Realiza solicitudes en lotes hasta llegar al valor \"to\"\n",
    "while from_value <= 39963:\n",
    "    # Actualiza los parámetros de consulta con los valores actuales de \"from\" y \"to\"\n",
    "    query_params[\"from\"] = from_value\n",
    "    query_params[\"to\"] = to_value\n",
    "\n",
    "    # Realiza la solicitud GET\n",
    "    response = requests.get(url_base, params=query_params, headers=headers)\n",
    "\n",
    "    if response.status_code == 200:\n",
    "        # Convierte la respuesta JSON en un diccionario de Python\n",
    "        data = json.loads(response.text)\n",
    "\n",
    "        # Especifica el nombre del archivo en el que deseas guardar los datos JSON totales\n",
    "        archivo_json = f\"hotels_us_total_api_{file_count}.json\"\n",
    "\n",
    "        # Especifica la ruta donde se encuentra el archivo\n",
    "        path_json = \"../../2. Datasets/original/hotelbeds/\"\n",
    "\n",
    "        # Abre el archivo en modo escritura y guarda el diccionario en formato JSON\n",
    "        with open(path_json + archivo_json, \"w\") as archivo:\n",
    "            json.dump(data[\"hotels\"], archivo, indent=4)\n",
    "\n",
    "        # Incrementa los valores de \"from\" y \"to\" para el próximo lote\n",
    "        from_value += batch_size\n",
    "        to_value += batch_size\n",
    "\n",
    "        # Incrementa el contador\n",
    "        file_count += 1\n",
    "\n",
    "        \n",
    "    else:\n",
    "        print(f\"Error al hacer la solicitud a la API. Código de respuesta: {response.status_code}\")\n",
    "        break\n",
    "# disminuye el contador\n",
    "file_count -= 1\n",
    "print(f\"Los datos se han guardado en {file_count} archivos .json\")"
   ]
  },
  {
   "cell_type": "markdown",
   "metadata": {},
   "source": [
    "## Extracción del dataset de los detalles de los hoteles"
   ]
  },
  {
   "cell_type": "markdown",
   "metadata": {},
   "source": [
    "se procede a extraer los detalles de los hoteles, es necesario obtener primero el dato del codigo del hotel a continuación el procedimiento:"
   ]
  },
  {
   "cell_type": "code",
   "execution_count": 9,
   "metadata": {},
   "outputs": [
    {
     "name": "stdout",
     "output_type": "stream",
     "text": [
      "Los datos se han guardado en 200 archivos .json\n"
     ]
    }
   ],
   "source": [
    "# URL base de la API ti\n",
    "url_base = \"https://api.test.hotelbeds.com/hotel-content-api/1.0/hotels\"\n",
    "\n",
    "headers = {\n",
    "  'Api-key': apiKey,\n",
    "  'X-Signature': signature,\n",
    "  'Accept': 'application/json',\n",
    "  'Accept-Encoding': 'gzip',\n",
    "  'Content-Type': 'application/json'\n",
    "}\n",
    "\n",
    "\n",
    "# Valor inicial y tamaño del lote\n",
    "from_value = 1\n",
    "batch_size = 200\n",
    "to_value = from_value + batch_size - 1\n",
    "\n",
    "# Contador de archivos\n",
    "file_count = 1\n",
    "\n",
    "# Inicializa el índice inicial\n",
    "start = 0\n",
    "\n",
    "# Inicializa una cadena vacía para almacenar los códigos del lote\n",
    "codes_batch = \"\"\n",
    "\n",
    "# Read the CSV file into a DataFrame\n",
    "df_hotel_code = pd.read_csv('../../2. Datasets/original/hotelbeds/hotels_code.csv')\n",
    "\n",
    "# Realiza solicitudes en lotes hasta llegar al valor \"to\"\n",
    "while from_value <= 39963 - 1:\n",
    "    \n",
    "    # Calcula el índice final para el lote actual\n",
    "    finish = start + batch_size\n",
    "    \n",
    "    # Extrae el lote actual de la columna 'code'\n",
    "    batch = df_hotel_code['code'].iloc[start:finish]\n",
    "\n",
    "    # Concatena los códigos del lote con comas y agrega al resultado anterior\n",
    "    codes_batch += \",\" + \",\".join(batch.astype(str))\n",
    "    \n",
    "    # Elimina la coma inicial si existe\n",
    "    if codes_batch.startswith(\",\"):\n",
    "        codes_batch = codes_batch[1:]\n",
    "\n",
    "    # Realiza la solicitud GET\n",
    "    response = requests.get(url_base + f\"/{codes_batch}/details\", headers=headers)\n",
    "\n",
    "    if response.status_code == 200:\n",
    "        # Convierte la respuesta JSON en un diccionario de Python\n",
    "        data = json.loads(response.text)\n",
    "\n",
    "        # Especifica el nombre del archivo en el que deseas guardar los datos JSON totales\n",
    "        archivo_json = f\"hotels_us_details_api_{file_count}.json\"\n",
    "\n",
    "        # Especifica la ruta donde se encuentra el archivo\n",
    "        path_json = \"../../2. Datasets/original/hotelbeds/\"\n",
    "\n",
    "        # Abre el archivo en modo escritura y guarda el diccionario en formato JSON\n",
    "        with open(path_json + archivo_json, \"w\") as archivo:\n",
    "            json.dump(data, archivo, indent=4)\n",
    "\n",
    "        # Incrementa los valores de \"from\" y \"to\" para el próximo lote\n",
    "        from_value += batch_size\n",
    "        to_value += batch_size\n",
    "\n",
    "        # Incrementa el contador\n",
    "        file_count += 1\n",
    "\n",
    "        # Actualiza el índice inicial para el próximo lote\n",
    "        start = finish\n",
    "        \n",
    "        # Se reestablece la variable que contiene la lista para crear una nueva\n",
    "        codes_batch = \"\"\n",
    "\n",
    "        \n",
    "    else:\n",
    "        print(f\"Error al hacer la solicitud a la API. Código de respuesta: {response.status_code}\")\n",
    "        break\n",
    "# disminuye el contador\n",
    "file_count -= 1\n",
    "print(f\"Los datos se han guardado en {file_count} archivos .json\")"
   ]
  }
 ],
 "metadata": {
  "kernelspec": {
   "display_name": ".venv",
   "language": "python",
   "name": "python3"
  },
  "language_info": {
   "codemirror_mode": {
    "name": "ipython",
    "version": 3
   },
   "file_extension": ".py",
   "mimetype": "text/x-python",
   "name": "python",
   "nbconvert_exporter": "python",
   "pygments_lexer": "ipython3",
   "version": "3.10.7"
  },
  "orig_nbformat": 4
 },
 "nbformat": 4,
 "nbformat_minor": 2
}
