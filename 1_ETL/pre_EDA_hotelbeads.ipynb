{
 "cells": [
  {
   "cell_type": "markdown",
   "metadata": {},
   "source": [
    "![ETL](<../5_Sources/Images/banner_etl.gif>)"
   ]
  },
  {
   "cell_type": "markdown",
   "metadata": {},
   "source": [
    "<p align=\"center\">\n",
    "\n",
    "## **Unificación de Datasets extraidos**\n",
    "\n",
    "</p>\n",
    "\n",
    "A través de la API se realiza extracción de multiples datasets en `JSON` por restricciones de la plataforma **HOTELBEDS** la cual permite en el caso de datos de HOTELES extraer por País y por lotes de 1000, su funcionalidad se limita a 50 extracciones cada 24H lo que nos indica que si tenemos aproximadamente **40Mil** Hoteles lo podemos hacer con una cuenta de API limitado a 40 lotes (40 extracciones) de archivos `JSON` para luego proceder a unificar y enviar directamente a realizarle `EDA`."
   ]
  },
  {
   "cell_type": "markdown",
   "metadata": {},
   "source": [
    "<mark>Script para agregar a la automatización</mark>"
   ]
  },
  {
   "cell_type": "code",
   "execution_count": 1,
   "metadata": {},
   "outputs": [],
   "source": [
    "# Usaremos librería Pandas y Json para permitir la lectura de los archivos\n",
    "import pandas as pd\n",
    "import json"
   ]
  },
  {
   "cell_type": "markdown",
   "metadata": {},
   "source": [
    "### Alistamos variables antes de realizar la iteración con `for`"
   ]
  },
  {
   "cell_type": "code",
   "execution_count": 22,
   "metadata": {},
   "outputs": [],
   "source": [
    "# Inicializa un DataFrame vacío\n",
    "df_hotels = pd.DataFrame()\n",
    "# Número total de conjuntos de datos que deseas leer\n",
    "num_datasets = 40\n",
    "# Ruta base donde se encuentran los archivos JSON\n",
    "path_base = \"../2. Datasets/original/hotelbeds/\""
   ]
  },
  {
   "cell_type": "markdown",
   "metadata": {},
   "source": [
    "### Creamos la iteración con `for` concatenando al mismo tiempo los datasets en JSON ya que tienen la misma estructura"
   ]
  },
  {
   "cell_type": "code",
   "execution_count": 23,
   "metadata": {},
   "outputs": [],
   "source": [
    "# Itera sobre los nombres de los archivos y los concatena en el DataFrame total\n",
    "for i in range(1, num_datasets + 1):\n",
    "    file_json = f\"hotels_us_total_api_{i}.json\"\n",
    "    path_file = path_base + file_json\n",
    "    \n",
    "    # Lee el archivo JSON y conviértelo en un DataFrame\n",
    "    df = pd.read_json(path_file)\n",
    "    \n",
    "    # Concatena el DataFrame actual al DataFrame total\n",
    "    df_hotels = pd.concat([df_hotels, df], ignore_index=True)"
   ]
  },
  {
   "cell_type": "markdown",
   "metadata": {},
   "source": [
    "**`Importante`**: para la automatización y la extracción posterior debemos tener en cuenta la columna **`\"code\"`** con esta vamos a excluir en extracciones futuras datos repetidos, también nos ayuda a extraer los detalles de cada hotel y su disponibilidad de habitaciones en tiempo real."
   ]
  },
  {
   "cell_type": "code",
   "execution_count": 36,
   "metadata": {},
   "outputs": [],
   "source": [
    "# Guardamos un archivo csv su funcionalidad no va a ser a modo de dataset sino una forma de excluir data repetitiva en procesos automáticos\n",
    "df_hotels_c['code'].to_csv(path_base + \"hotels_code.csv\")"
   ]
  },
  {
   "cell_type": "markdown",
   "metadata": {},
   "source": [
    "### Guardamos la unificación del dataset para el proceso de EDA"
   ]
  },
  {
   "cell_type": "code",
   "execution_count": 35,
   "metadata": {},
   "outputs": [],
   "source": [
    "# Guardamos el dataset en csv para la fácil lectura.\n",
    "df_hotels_c.to_csv(path_base + \"hotels_dataset.csv\")"
   ]
  },
  {
   "cell_type": "code",
   "execution_count": 24,
   "metadata": {},
   "outputs": [],
   "source": [
    "df_hotels_c = df_hotels.copy()"
   ]
  },
  {
   "cell_type": "markdown",
   "metadata": {},
   "source": [
    "### Al Menjar Grandes cantidades de Datos el PC local comienza a limitarse en memoria RAM y en Procesador por lo cual realizamos la toma de una muestra de uno de los lotes de datasets (1 archivo JSON) y procesamos el script pertinente y luego lo corremos en la concatenación de la data, esto reduce los recursos."
   ]
  },
  {
   "cell_type": "code",
   "execution_count": 4,
   "metadata": {},
   "outputs": [],
   "source": [
    "# df_hotels_c = pd.read_json(path_base + \"hotels_us_total_api_1.json\")"
   ]
  },
  {
   "cell_type": "code",
   "execution_count": 25,
   "metadata": {},
   "outputs": [
    {
     "name": "stdout",
     "output_type": "stream",
     "text": [
      "<class 'pandas.core.frame.DataFrame'>\n",
      "RangeIndex: 39963 entries, 0 to 39962\n",
      "Data columns (total 31 columns):\n",
      " #   Column                 Non-Null Count  Dtype \n",
      "---  ------                 --------------  ----- \n",
      " 0   code                   39963 non-null  int64 \n",
      " 1   name                   39963 non-null  object\n",
      " 2   description            39923 non-null  object\n",
      " 3   countryCode            39963 non-null  object\n",
      " 4   stateCode              39963 non-null  object\n",
      " 5   destinationCode        39963 non-null  object\n",
      " 6   zoneCode               39963 non-null  int64 \n",
      " 7   coordinates            39963 non-null  object\n",
      " 8   categoryCode           39963 non-null  object\n",
      " 9   categoryGroupCode      39876 non-null  object\n",
      " 10  chainCode              33551 non-null  object\n",
      " 11  accommodationTypeCode  39963 non-null  object\n",
      " 12  boardCodes             38280 non-null  object\n",
      " 13  segmentCodes           39166 non-null  object\n",
      " 14  address                39963 non-null  object\n",
      " 15  postalCode             39904 non-null  object\n",
      " 16  city                   39963 non-null  object\n",
      " 17  email                  20233 non-null  object\n",
      " 18  phones                 39505 non-null  object\n",
      " 19  rooms                  39961 non-null  object\n",
      " 20  facilities             39963 non-null  object\n",
      " 21  interestPoints         9030 non-null   object\n",
      " 22  images                 38866 non-null  object\n",
      " 23  wildcards              27434 non-null  object\n",
      " 24  web                    10817 non-null  object\n",
      " 25  lastUpdate             39963 non-null  object\n",
      " 26  S2C                    15857 non-null  object\n",
      " 27  ranking                39963 non-null  int64 \n",
      " 28  terminals              1471 non-null   object\n",
      " 29  issues                 583 non-null    object\n",
      " 30  license                41 non-null     object\n",
      "dtypes: int64(3), object(28)\n",
      "memory usage: 9.5+ MB\n"
     ]
    }
   ],
   "source": [
    "# Revisamos su estructura, tipos de datos\n",
    "df_hotels_c.info()"
   ]
  },
  {
   "cell_type": "code",
   "execution_count": 26,
   "metadata": {},
   "outputs": [],
   "source": [
    "# Define una función para verificar si un elemento es un objeto JSON o diccionario\n",
    "def is_json_or_dict(element):\n",
    "    try:\n",
    "        if isinstance(element, dict):\n",
    "            return True\n",
    "        elif isinstance(element, str):\n",
    "            json.loads(element)\n",
    "            return True\n",
    "        else:\n",
    "            return False\n",
    "    except (json.JSONDecodeError, TypeError):\n",
    "        return False"
   ]
  },
  {
   "cell_type": "code",
   "execution_count": 27,
   "metadata": {},
   "outputs": [],
   "source": [
    "# Aplica la función a cada elemento del DataFrame y crea una columna de booleanos\n",
    "columnn_json = df_hotels_c.applymap(is_json_or_dict)"
   ]
  },
  {
   "cell_type": "code",
   "execution_count": 28,
   "metadata": {},
   "outputs": [
    {
     "data": {
      "text/plain": [
       "code                     False\n",
       "name                      True\n",
       "description               True\n",
       "countryCode              False\n",
       "stateCode                False\n",
       "destinationCode          False\n",
       "zoneCode                 False\n",
       "coordinates               True\n",
       "categoryCode             False\n",
       "categoryGroupCode        False\n",
       "chainCode                False\n",
       "accommodationTypeCode    False\n",
       "boardCodes               False\n",
       "segmentCodes             False\n",
       "address                   True\n",
       "postalCode                True\n",
       "city                      True\n",
       "email                    False\n",
       "phones                   False\n",
       "rooms                    False\n",
       "facilities               False\n",
       "interestPoints           False\n",
       "images                   False\n",
       "wildcards                False\n",
       "web                       True\n",
       "lastUpdate               False\n",
       "S2C                      False\n",
       "ranking                  False\n",
       "terminals                False\n",
       "issues                   False\n",
       "license                   True\n",
       "dtype: bool"
      ]
     },
     "execution_count": 28,
     "metadata": {},
     "output_type": "execute_result"
    }
   ],
   "source": [
    "# Muestra solo las columnas que tienen al menos un True\n",
    "columnn_json.any()"
   ]
  },
  {
   "cell_type": "code",
   "execution_count": 29,
   "metadata": {},
   "outputs": [],
   "source": [
    "# Define una función para extraer el contenido de 'content'\n",
    "def extract_content(json_dict):\n",
    "    if isinstance(json_dict, dict):\n",
    "        return json_dict.get('content', '')\n",
    "    else:\n",
    "        return ''"
   ]
  },
  {
   "cell_type": "code",
   "execution_count": 30,
   "metadata": {},
   "outputs": [],
   "source": [
    "# Aplica la función a la columna y crea una nueva columna con el contenido extraído\n",
    "df_hotels_c['name'] = df_hotels_c['name'].apply(extract_content)\n",
    "df_hotels_c['description'] = df_hotels_c['description'].apply(extract_content)\n",
    "df_hotels_c['address'] = df_hotels_c['address'].apply(extract_content)\n",
    "df_hotels_c['city'] = df_hotels_c['city'].apply(extract_content)"
   ]
  },
  {
   "cell_type": "code",
   "execution_count": 31,
   "metadata": {},
   "outputs": [],
   "source": [
    "def extract_longitude(json_dict):\n",
    "    if isinstance(json_dict, dict):\n",
    "        return json_dict.get('longitude', '')\n",
    "    else:\n",
    "        return ''\n",
    "    \n",
    "def extract_latitude(json_dict):\n",
    "    if isinstance(json_dict, dict):\n",
    "        return json_dict.get('latitude', '')\n",
    "    else:\n",
    "        return ''"
   ]
  },
  {
   "cell_type": "code",
   "execution_count": 32,
   "metadata": {},
   "outputs": [],
   "source": [
    "df_hotels_c['longitude'] = df_hotels_c['coordinates'].apply(extract_longitude)\n",
    "df_hotels_c['latitude'] = df_hotels_c['coordinates'].apply(extract_latitude)"
   ]
  },
  {
   "cell_type": "code",
   "execution_count": 33,
   "metadata": {},
   "outputs": [],
   "source": [
    "# Eliminar columnas con datos null: 'coordinates', 'license', 'issues'\n",
    "df_hotels_c = df_hotels_c.drop(columns=['license', 'issues'])\n",
    "# Eliminar Columna ya gestionada y dividida\n",
    "df_hotels_c = df_hotels_c.drop(columns=['coordinates'])"
   ]
  },
  {
   "cell_type": "code",
   "execution_count": 34,
   "metadata": {},
   "outputs": [
    {
     "data": {
      "text/html": [
       "<div>\n",
       "<style scoped>\n",
       "    .dataframe tbody tr th:only-of-type {\n",
       "        vertical-align: middle;\n",
       "    }\n",
       "\n",
       "    .dataframe tbody tr th {\n",
       "        vertical-align: top;\n",
       "    }\n",
       "\n",
       "    .dataframe thead th {\n",
       "        text-align: right;\n",
       "    }\n",
       "</style>\n",
       "<table border=\"1\" class=\"dataframe\">\n",
       "  <thead>\n",
       "    <tr style=\"text-align: right;\">\n",
       "      <th></th>\n",
       "      <th>code</th>\n",
       "      <th>name</th>\n",
       "      <th>description</th>\n",
       "      <th>countryCode</th>\n",
       "      <th>stateCode</th>\n",
       "      <th>destinationCode</th>\n",
       "      <th>zoneCode</th>\n",
       "      <th>categoryCode</th>\n",
       "      <th>categoryGroupCode</th>\n",
       "      <th>chainCode</th>\n",
       "      <th>...</th>\n",
       "      <th>interestPoints</th>\n",
       "      <th>images</th>\n",
       "      <th>wildcards</th>\n",
       "      <th>web</th>\n",
       "      <th>lastUpdate</th>\n",
       "      <th>S2C</th>\n",
       "      <th>ranking</th>\n",
       "      <th>terminals</th>\n",
       "      <th>longitude</th>\n",
       "      <th>latitude</th>\n",
       "    </tr>\n",
       "  </thead>\n",
       "  <tbody>\n",
       "    <tr>\n",
       "      <th>0</th>\n",
       "      <td>6474</td>\n",
       "      <td>Hilton Chicago</td>\n",
       "      <td>Our Hotel's Policies Have Changed  ” Weve upda...</td>\n",
       "      <td>US</td>\n",
       "      <td>IL</td>\n",
       "      <td>ORD</td>\n",
       "      <td>2</td>\n",
       "      <td>4EST</td>\n",
       "      <td>GRUPO4</td>\n",
       "      <td>HILTO</td>\n",
       "      <td>...</td>\n",
       "      <td>[{'facilityCode': 10, 'facilityGroupCode': 100...</td>\n",
       "      <td>[{'imageTypeCode': 'HAB', 'path': '00/006474/0...</td>\n",
       "      <td>[{'roomType': 'ROO.LK', 'roomCode': 'ROO', 'ch...</td>\n",
       "      <td>www3.hilton.com/en/hotels/illinois/hilton-chic...</td>\n",
       "      <td>2023-07-28</td>\n",
       "      <td>3*</td>\n",
       "      <td>47</td>\n",
       "      <td>NaN</td>\n",
       "      <td>-87.624400</td>\n",
       "      <td>41.872500</td>\n",
       "    </tr>\n",
       "    <tr>\n",
       "      <th>1</th>\n",
       "      <td>6478</td>\n",
       "      <td>Four Points by Sheraton Los Angeles Int'l Airport</td>\n",
       "      <td>This charming hotel is just a mile from LAX Ai...</td>\n",
       "      <td>US</td>\n",
       "      <td>CA</td>\n",
       "      <td>LAX</td>\n",
       "      <td>9</td>\n",
       "      <td>3EST</td>\n",
       "      <td>GRUPO3</td>\n",
       "      <td>MARIO</td>\n",
       "      <td>...</td>\n",
       "      <td>NaN</td>\n",
       "      <td>[{'imageTypeCode': 'RES', 'path': '00/006478/0...</td>\n",
       "      <td>NaN</td>\n",
       "      <td>http://www.fourpointslax.com/la-airport-hotel</td>\n",
       "      <td>2023-07-28</td>\n",
       "      <td>3*</td>\n",
       "      <td>82</td>\n",
       "      <td>NaN</td>\n",
       "      <td>-118.385971</td>\n",
       "      <td>33.948050</td>\n",
       "    </tr>\n",
       "    <tr>\n",
       "      <th>2</th>\n",
       "      <td>6480</td>\n",
       "      <td>Sheraton Universal Hotel</td>\n",
       "      <td>This upscale, landmark hotel enjoys an excitin...</td>\n",
       "      <td>US</td>\n",
       "      <td>CA</td>\n",
       "      <td>LAX</td>\n",
       "      <td>21</td>\n",
       "      <td>3EST</td>\n",
       "      <td>GRUPO3</td>\n",
       "      <td>MARIO</td>\n",
       "      <td>...</td>\n",
       "      <td>NaN</td>\n",
       "      <td>[{'imageTypeCode': 'GEN', 'path': '00/006480/0...</td>\n",
       "      <td>NaN</td>\n",
       "      <td>NaN</td>\n",
       "      <td>2023-07-28</td>\n",
       "      <td>4*</td>\n",
       "      <td>119</td>\n",
       "      <td>NaN</td>\n",
       "      <td>-118.359553</td>\n",
       "      <td>34.137603</td>\n",
       "    </tr>\n",
       "    <tr>\n",
       "      <th>3</th>\n",
       "      <td>6483</td>\n",
       "      <td>Westin Copley Place</td>\n",
       "      <td>Experience one of Boston's most celebrated nei...</td>\n",
       "      <td>US</td>\n",
       "      <td>MA</td>\n",
       "      <td>BOS</td>\n",
       "      <td>2</td>\n",
       "      <td>H4_5</td>\n",
       "      <td>GRUPO4</td>\n",
       "      <td>MARIO</td>\n",
       "      <td>...</td>\n",
       "      <td>NaN</td>\n",
       "      <td>[{'imageTypeCode': 'GEN', 'path': '00/006483/0...</td>\n",
       "      <td>[{'roomType': 'DBL.ST', 'roomCode': 'DBL', 'ch...</td>\n",
       "      <td>http://www.westincopleyplaceboston.com/</td>\n",
       "      <td>2023-07-28</td>\n",
       "      <td>3*</td>\n",
       "      <td>62</td>\n",
       "      <td>NaN</td>\n",
       "      <td>-71.077539</td>\n",
       "      <td>42.348577</td>\n",
       "    </tr>\n",
       "    <tr>\n",
       "      <th>4</th>\n",
       "      <td>6487</td>\n",
       "      <td>Wyndham Garden New Orleans Airport</td>\n",
       "      <td>Wyndham Garden New Orleans Airport is perfectl...</td>\n",
       "      <td>US</td>\n",
       "      <td>LA</td>\n",
       "      <td>MSY</td>\n",
       "      <td>8</td>\n",
       "      <td>3EST</td>\n",
       "      <td>GRUPO3</td>\n",
       "      <td>WYNDH</td>\n",
       "      <td>...</td>\n",
       "      <td>NaN</td>\n",
       "      <td>[{'imageTypeCode': 'RES', 'path': '00/006487/0...</td>\n",
       "      <td>[{'roomType': 'DBL.KG', 'roomCode': 'DBL', 'ch...</td>\n",
       "      <td>www.wyndhamhotels.com</td>\n",
       "      <td>2023-07-28</td>\n",
       "      <td>NaN</td>\n",
       "      <td>55</td>\n",
       "      <td>NaN</td>\n",
       "      <td>-90.122700</td>\n",
       "      <td>30.000000</td>\n",
       "    </tr>\n",
       "  </tbody>\n",
       "</table>\n",
       "<p>5 rows × 30 columns</p>\n",
       "</div>"
      ],
      "text/plain": [
       "   code                                               name  \\\n",
       "0  6474                                     Hilton Chicago   \n",
       "1  6478  Four Points by Sheraton Los Angeles Int'l Airport   \n",
       "2  6480                           Sheraton Universal Hotel   \n",
       "3  6483                                Westin Copley Place   \n",
       "4  6487                 Wyndham Garden New Orleans Airport   \n",
       "\n",
       "                                         description countryCode stateCode  \\\n",
       "0  Our Hotel's Policies Have Changed  ” Weve upda...          US        IL   \n",
       "1  This charming hotel is just a mile from LAX Ai...          US        CA   \n",
       "2  This upscale, landmark hotel enjoys an excitin...          US        CA   \n",
       "3  Experience one of Boston's most celebrated nei...          US        MA   \n",
       "4  Wyndham Garden New Orleans Airport is perfectl...          US        LA   \n",
       "\n",
       "  destinationCode  zoneCode categoryCode categoryGroupCode chainCode  ...  \\\n",
       "0             ORD         2         4EST            GRUPO4     HILTO  ...   \n",
       "1             LAX         9         3EST            GRUPO3     MARIO  ...   \n",
       "2             LAX        21         3EST            GRUPO3     MARIO  ...   \n",
       "3             BOS         2         H4_5            GRUPO4     MARIO  ...   \n",
       "4             MSY         8         3EST            GRUPO3     WYNDH  ...   \n",
       "\n",
       "                                      interestPoints  \\\n",
       "0  [{'facilityCode': 10, 'facilityGroupCode': 100...   \n",
       "1                                                NaN   \n",
       "2                                                NaN   \n",
       "3                                                NaN   \n",
       "4                                                NaN   \n",
       "\n",
       "                                              images  \\\n",
       "0  [{'imageTypeCode': 'HAB', 'path': '00/006474/0...   \n",
       "1  [{'imageTypeCode': 'RES', 'path': '00/006478/0...   \n",
       "2  [{'imageTypeCode': 'GEN', 'path': '00/006480/0...   \n",
       "3  [{'imageTypeCode': 'GEN', 'path': '00/006483/0...   \n",
       "4  [{'imageTypeCode': 'RES', 'path': '00/006487/0...   \n",
       "\n",
       "                                           wildcards  \\\n",
       "0  [{'roomType': 'ROO.LK', 'roomCode': 'ROO', 'ch...   \n",
       "1                                                NaN   \n",
       "2                                                NaN   \n",
       "3  [{'roomType': 'DBL.ST', 'roomCode': 'DBL', 'ch...   \n",
       "4  [{'roomType': 'DBL.KG', 'roomCode': 'DBL', 'ch...   \n",
       "\n",
       "                                                 web  lastUpdate  S2C ranking  \\\n",
       "0  www3.hilton.com/en/hotels/illinois/hilton-chic...  2023-07-28   3*      47   \n",
       "1      http://www.fourpointslax.com/la-airport-hotel  2023-07-28   3*      82   \n",
       "2                                                NaN  2023-07-28   4*     119   \n",
       "3            http://www.westincopleyplaceboston.com/  2023-07-28   3*      62   \n",
       "4                              www.wyndhamhotels.com  2023-07-28  NaN      55   \n",
       "\n",
       "  terminals   longitude   latitude  \n",
       "0       NaN  -87.624400  41.872500  \n",
       "1       NaN -118.385971  33.948050  \n",
       "2       NaN -118.359553  34.137603  \n",
       "3       NaN  -71.077539  42.348577  \n",
       "4       NaN  -90.122700  30.000000  \n",
       "\n",
       "[5 rows x 30 columns]"
      ]
     },
     "execution_count": 34,
     "metadata": {},
     "output_type": "execute_result"
    }
   ],
   "source": [
    "df_hotels_c.head()"
   ]
  }
 ],
 "metadata": {
  "kernelspec": {
   "display_name": "Python 3",
   "language": "python",
   "name": "python3"
  },
  "language_info": {
   "codemirror_mode": {
    "name": "ipython",
    "version": 3
   },
   "file_extension": ".py",
   "mimetype": "text/x-python",
   "name": "python",
   "nbconvert_exporter": "python",
   "pygments_lexer": "ipython3",
   "version": "3.10.7"
  },
  "orig_nbformat": 4
 },
 "nbformat": 4,
 "nbformat_minor": 2
}
