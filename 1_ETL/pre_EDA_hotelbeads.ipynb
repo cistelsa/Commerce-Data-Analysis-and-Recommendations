{
 "cells": [
  {
   "cell_type": "markdown",
   "metadata": {},
   "source": [
    "![ETL](<../5_Sources/Images/banner_etl.gif>)"
   ]
  },
  {
   "cell_type": "markdown",
   "metadata": {},
   "source": [
    "<p align=\"center\">\n",
    "\n",
    "## **Unificación de Datasets extraidos**\n",
    "\n",
    "</p>\n",
    "\n",
    "A través de la API se realiza extracción de multiples datasets en `JSON` por restricciones de la plataforma **HOTELBEDS** la cual permite en el caso de datos de HOTELES extraer por País y por lotes de 1000, su funcionalidad se limita a 50 extracciones cada 24H lo que nos indica que si tenemos aproximadamente **40Mil** Hoteles lo podemos hacer con una cuenta de API limitado a 40 lotes (40 extracciones) de archivos `JSON` para luego proceder a unificar y enviar directamente a realizarle `EDA`."
   ]
  },
  {
   "cell_type": "markdown",
   "metadata": {},
   "source": [
    "<mark>Parte de este script será reutilizado para agregar a la automatización</mark>"
   ]
  },
  {
   "cell_type": "code",
   "execution_count": 1,
   "metadata": {},
   "outputs": [],
   "source": [
    "# Usaremos librería Pandas y Json para permitir la lectura de los archivos\n",
    "import pandas as pd\n",
    "import json"
   ]
  },
  {
   "cell_type": "markdown",
   "metadata": {},
   "source": [
    "### Alistamos variables antes de realizar la iteración con `for`"
   ]
  },
  {
   "cell_type": "code",
   "execution_count": 2,
   "metadata": {},
   "outputs": [],
   "source": [
    "# Inicializa un DataFrame vacío\n",
    "df_hotels = pd.DataFrame()\n",
    "# Número total de conjuntos de datos que deseas leer\n",
    "num_datasets = 40\n",
    "# Ruta base donde se encuentran los archivos JSON\n",
    "path_base = \"../2_Datasets/original/hotelbeds/\""
   ]
  },
  {
   "cell_type": "markdown",
   "metadata": {},
   "source": [
    "### Creamos la iteración con `for` concatenando al mismo tiempo los datasets en JSON ya que tienen la misma estructura con `extend()`\n",
    "Debemos ejecutarlo con la librería JSON ya que nuestra data es tan compleja que haciendo pruebas con archivos .csv se generan errores en nuestro script; esto debido a que su estructura no está diseñada para contener en sus columnas datos anidados como diccionarios, listas de diccionarios, JSON, listas, etc. Debemos tener en cuenta que estos archivos JSON están estructurados en un mix de de infromación que no manejan la misma estructura entonces debemos extraer la información de `hotels`"
   ]
  },
  {
   "cell_type": "code",
   "execution_count": 3,
   "metadata": {},
   "outputs": [],
   "source": [
    "# Lista para almacenar los datos de los 40 archivos JSON\n",
    "all_data = []\n",
    "\n",
    "# Itera sobre los nombres de archivo y los carga en la lista\n",
    "for i in range(1, num_datasets + 1):\n",
    "    filename = f\"hotels_us_total_api_{i}.json\"\n",
    "    \n",
    "    try:\n",
    "        with open(path_base + filename, 'r', encoding='utf-8') as file:\n",
    "            data = json.load(file)\n",
    "            all_data.extend(data)  # Agrega los datos al final de la lista\n",
    "    except FileNotFoundError:\n",
    "        print(f\"El archivo {filename} no fue encontrado.\")"
   ]
  },
  {
   "cell_type": "code",
   "execution_count": 4,
   "metadata": {},
   "outputs": [],
   "source": [
    "# Convierte el formato JSON a DataFrame\n",
    "df_hotels = pd.DataFrame(all_data)"
   ]
  },
  {
   "cell_type": "code",
   "execution_count": 6,
   "metadata": {},
   "outputs": [
    {
     "name": "stdout",
     "output_type": "stream",
     "text": [
      "<class 'pandas.core.frame.DataFrame'>\n",
      "RangeIndex: 39963 entries, 0 to 39962\n",
      "Data columns (total 31 columns):\n",
      " #   Column                 Non-Null Count  Dtype \n",
      "---  ------                 --------------  ----- \n",
      " 0   code                   39963 non-null  int64 \n",
      " 1   name                   39963 non-null  object\n",
      " 2   description            39923 non-null  object\n",
      " 3   countryCode            39963 non-null  object\n",
      " 4   stateCode              39963 non-null  object\n",
      " 5   destinationCode        39963 non-null  object\n",
      " 6   zoneCode               39963 non-null  int64 \n",
      " 7   coordinates            39963 non-null  object\n",
      " 8   categoryCode           39963 non-null  object\n",
      " 9   categoryGroupCode      39876 non-null  object\n",
      " 10  chainCode              33551 non-null  object\n",
      " 11  accommodationTypeCode  39963 non-null  object\n",
      " 12  boardCodes             38280 non-null  object\n",
      " 13  segmentCodes           39166 non-null  object\n",
      " 14  address                39963 non-null  object\n",
      " 15  postalCode             39904 non-null  object\n",
      " 16  city                   39963 non-null  object\n",
      " 17  email                  20233 non-null  object\n",
      " 18  phones                 39505 non-null  object\n",
      " 19  rooms                  39961 non-null  object\n",
      " 20  facilities             39963 non-null  object\n",
      " 21  interestPoints         9030 non-null   object\n",
      " 22  images                 38866 non-null  object\n",
      " 23  wildcards              27434 non-null  object\n",
      " 24  web                    10817 non-null  object\n",
      " 25  lastUpdate             39963 non-null  object\n",
      " 26  S2C                    15857 non-null  object\n",
      " 27  ranking                39963 non-null  int64 \n",
      " 28  terminals              1471 non-null   object\n",
      " 29  issues                 583 non-null    object\n",
      " 30  license                41 non-null     object\n",
      "dtypes: int64(3), object(28)\n",
      "memory usage: 9.5+ MB\n"
     ]
    }
   ],
   "source": [
    "df_hotels.info()"
   ]
  },
  {
   "cell_type": "markdown",
   "metadata": {},
   "source": [
    "**`Importante`**: para la automatización y la extracción posterior debemos tener en cuenta la columna **`\"code\"`** con esta vamos a excluir en extracciones futuras datos repetidos, también nos ayuda a extraer los detalles de cada hotel y su disponibilidad de habitaciones en tiempo real."
   ]
  },
  {
   "cell_type": "code",
   "execution_count": 7,
   "metadata": {},
   "outputs": [],
   "source": [
    "# Guardamos un archivo csv su funcionalidad no va a ser a modo de dataset sino una forma de excluir data repetitiva en procesos automáticos\n",
    "df_hotels['code'].to_csv(path_base + \"hotels_code.csv\")"
   ]
  },
  {
   "cell_type": "markdown",
   "metadata": {},
   "source": [
    "### Guardamos la unificación del dataset para el proceso de EDA"
   ]
  },
  {
   "cell_type": "code",
   "execution_count": 8,
   "metadata": {},
   "outputs": [],
   "source": [
    "# Convierte el DataFrame en formato JSON con los parámetros de formato deseados\n",
    "json_hotels = df_hotels.to_json(orient='records', \n",
    "                                date_format='iso', \n",
    "                                force_ascii=False)"
   ]
  },
  {
   "cell_type": "code",
   "execution_count": 9,
   "metadata": {},
   "outputs": [
    {
     "name": "stdout",
     "output_type": "stream",
     "text": [
      "Datos combinados y guardados en 'hotels_us_total_combined.json'\n"
     ]
    }
   ],
   "source": [
    "# Guarda todos los datos en un solo archivo JSON\n",
    "with open(path_base + \"hotels_dataset.json\", 'w', encoding='utf-8') as combined_file:\n",
    "    json.dump(json_hotels, combined_file, separators=(',', ':'), ensure_ascii=False, indent=0)\n",
    "\n",
    "print(\"Datos combinados y guardados en 'hotels_dataset.json'\")"
   ]
  }
 ],
 "metadata": {
  "kernelspec": {
   "display_name": "Python 3",
   "language": "python",
   "name": "python3"
  },
  "language_info": {
   "codemirror_mode": {
    "name": "ipython",
    "version": 3
   },
   "file_extension": ".py",
   "mimetype": "text/x-python",
   "name": "python",
   "nbconvert_exporter": "python",
   "pygments_lexer": "ipython3",
   "version": "3.10.7"
  },
  "orig_nbformat": 4
 },
 "nbformat": 4,
 "nbformat_minor": 2
}
